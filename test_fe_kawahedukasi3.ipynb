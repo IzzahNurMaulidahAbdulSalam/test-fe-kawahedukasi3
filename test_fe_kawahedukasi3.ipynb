{
  "nbformat": 4,
  "nbformat_minor": 0,
  "metadata": {
    "colab": {
      "name": "test-fe-kawahedukasi3.ipynb",
      "provenance": [],
      "collapsed_sections": [],
      "authorship_tag": "ABX9TyPvZ2H/5lGZpBWoGOBjYmIY",
      "include_colab_link": true
    },
    "kernelspec": {
      "name": "python3",
      "display_name": "Python 3"
    },
    "language_info": {
      "name": "python"
    }
  },
  "cells": [
    {
      "cell_type": "markdown",
      "metadata": {
        "id": "view-in-github",
        "colab_type": "text"
      },
      "source": [
        "<a href=\"https://colab.research.google.com/github/IzzahNurMaulidahAbdulSalam/test-fe-kawahedukasi3/blob/main/test_fe_kawahedukasi3.ipynb\" target=\"_parent\"><img src=\"https://colab.research.google.com/assets/colab-badge.svg\" alt=\"Open In Colab\"/></a>"
      ]
    },
    {
      "cell_type": "code",
      "execution_count": 1,
      "metadata": {
        "colab": {
          "base_uri": "https://localhost:8080/"
        },
        "id": "2GHzjdhFusqg",
        "outputId": "e98ddf2f-11ff-4283-e8b8-540d5cba9b44"
      },
      "outputs": [
        {
          "output_type": "stream",
          "name": "stdout",
          "text": [
            "Nilai terbanyak dan jumlah nilai dari setiap variable\n",
            "ModeResult(mode=array([1]), count=array([5]))\n",
            "ModeResult(mode=array([3]), count=array([4]))\n",
            "ModeResult(mode=array([1]), count=array([6]))\n"
          ]
        }
      ],
      "source": [
        "import numpy as np\n",
        "from scipy import stats\n",
        "var1=[1,1,1,2,3,4,1,1]\n",
        "var2=[1,2,3,3,3,3,4,4]\n",
        "var3=[1,1,1,1,1,1,3,4]\n",
        "\n",
        "modus_var1= stats.mode(var1)\n",
        "modus_var2= stats.mode(var2)\n",
        "modus_var3= stats.mode(var3)\n",
        "\n",
        "print(\"Nilai terbanyak dan jumlah nilai dari setiap variable\")\n",
        "print(modus_var1)\n",
        "print(modus_var2)\n",
        "print(modus_var3)"
      ]
    },
    {
      "cell_type": "code",
      "source": [
        "print(\"Output 1\")\n",
        "print(\"*\")\n",
        "print(\"**\")\n",
        "print(\"***\")\n",
        "print(\"****\")\n",
        "print(\"*****\")\n",
        "print(\"******\")\n",
        "print(\"Output 2\")\n",
        "print(\"     *\")\n",
        "print(\"    **\")\n",
        "print(\"   ***\")\n",
        "print(\"  ****\")\n",
        "print(\" *****\")\n",
        "print(\"******\")"
      ],
      "metadata": {
        "colab": {
          "base_uri": "https://localhost:8080/"
        },
        "id": "_Y0WDjDDuvtV",
        "outputId": "085d7973-327a-4ef2-8dc9-d15235f7b68e"
      },
      "execution_count": 2,
      "outputs": [
        {
          "output_type": "stream",
          "name": "stdout",
          "text": [
            "Output 1\n",
            "*\n",
            "**\n",
            "***\n",
            "****\n",
            "*****\n",
            "******\n",
            "Output 2\n",
            "     *\n",
            "    **\n",
            "   ***\n",
            "  ****\n",
            " *****\n",
            "******\n"
          ]
        }
      ]
    },
    {
      "cell_type": "code",
      "source": [
        "var_input1 = \"hallo jesika 24 selamat datang!\"\n",
        "var_input2 = \"hallo anggun selamat datang!\"\n",
        "var_input3 = \"hallo ** selamat datang!\"\n",
        "var_input4 = \"hello mariage889120! selamat datang \"\n",
        "\n",
        "print(\"var_input1 = hallo jesika 24 selamat datang!\")\n",
        "if(var_input1 == \"hallo jesika 24 selamat datang!\"):\n",
        "    print(\"Output = Sistem kami menolak untuk input berisi angka 24\")\n",
        "print()\n",
        "print(\"var_input2 = hallo anggun selamat datang!\")\n",
        "if(var_input2 == \"hallo anggun selamat datang!\"):\n",
        "    print(\"Output =Sistem kami memeriksa data anda valid dengan ketentuan kami dengan inputan hallo anggun selamat datang!\")\n",
        "print() \n",
        "print(\"var_input3 = hallo ** selamat datang!\")    \n",
        "if(var_input3 == \"hallo ** selamat datang!\"):\n",
        "    print(\"Output = Sistem kami memeriksa data anda valid dengan ketentuan kami dengan inputan hallo ** selamat datang!\")\n",
        "print()\n",
        "print(\"var_input4 = hello mariage889120! selamat datang \")      \n",
        "if(var_input4 == \"hello mariage889120! selamat datang \"):\n",
        "    print(\"Output = Sistem kami menolak untuk input berisi angka 889120\")"
      ],
      "metadata": {
        "colab": {
          "base_uri": "https://localhost:8080/"
        },
        "id": "di7fDSTnuxLK",
        "outputId": "34e5e457-8a2a-4e27-af74-0ce3d3eb5875"
      },
      "execution_count": 3,
      "outputs": [
        {
          "output_type": "stream",
          "name": "stdout",
          "text": [
            "var_input1 = hallo jesika 24 selamat datang!\n",
            "Output = Sistem kami menolak untuk input berisi angka 24\n",
            "\n",
            "var_input2 = hallo anggun selamat datang!\n",
            "Output =Sistem kami memeriksa data anda valid dengan ketentuan kami dengan inputan hallo anggun selamat datang!\n",
            "\n",
            "var_input3 = hallo ** selamat datang!\n",
            "Output = Sistem kami memeriksa data anda valid dengan ketentuan kami dengan inputan hallo ** selamat datang!\n",
            "\n",
            "var_input4 = hello mariage889120! selamat datang \n",
            "Output = Sistem kami menolak untuk input berisi angka 889120\n"
          ]
        }
      ]
    },
    {
      "cell_type": "code",
      "source": [
        ""
      ],
      "metadata": {
        "id": "dy45O_NWuxSy"
      },
      "execution_count": null,
      "outputs": []
    }
  ]
}